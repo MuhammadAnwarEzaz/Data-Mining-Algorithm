{
 "cells": [
  {
   "cell_type": "markdown",
   "id": "relative-program",
   "metadata": {},
   "source": [
    "# K NEAREST NEIGHBOUR CLASSIFIER"
   ]
  },
  {
   "cell_type": "markdown",
   "id": "gorgeous-inspector",
   "metadata": {},
   "source": [
    "**Reading the Dataset**"
   ]
  },
  {
   "cell_type": "code",
   "execution_count": 1,
   "id": "lonely-cleanup",
   "metadata": {},
   "outputs": [
    {
     "data": {
      "text/html": [
       "<div>\n",
       "<style scoped>\n",
       "    .dataframe tbody tr th:only-of-type {\n",
       "        vertical-align: middle;\n",
       "    }\n",
       "\n",
       "    .dataframe tbody tr th {\n",
       "        vertical-align: top;\n",
       "    }\n",
       "\n",
       "    .dataframe thead th {\n",
       "        text-align: right;\n",
       "    }\n",
       "</style>\n",
       "<table border=\"1\" class=\"dataframe\">\n",
       "  <thead>\n",
       "    <tr style=\"text-align: right;\">\n",
       "      <th></th>\n",
       "      <th>Age</th>\n",
       "      <th>Income</th>\n",
       "      <th>Student</th>\n",
       "      <th>Credit_rating</th>\n",
       "      <th>Class:buys_computer</th>\n",
       "    </tr>\n",
       "    <tr>\n",
       "      <th>RID</th>\n",
       "      <th></th>\n",
       "      <th></th>\n",
       "      <th></th>\n",
       "      <th></th>\n",
       "      <th></th>\n",
       "    </tr>\n",
       "  </thead>\n",
       "  <tbody>\n",
       "    <tr>\n",
       "      <th>1</th>\n",
       "      <td>&lt;=30</td>\n",
       "      <td>High</td>\n",
       "      <td>No</td>\n",
       "      <td>Fair</td>\n",
       "      <td>No</td>\n",
       "    </tr>\n",
       "    <tr>\n",
       "      <th>2</th>\n",
       "      <td>&lt;=30</td>\n",
       "      <td>High</td>\n",
       "      <td>No</td>\n",
       "      <td>Excellent</td>\n",
       "      <td>No</td>\n",
       "    </tr>\n",
       "    <tr>\n",
       "      <th>3</th>\n",
       "      <td>31...40</td>\n",
       "      <td>High</td>\n",
       "      <td>No</td>\n",
       "      <td>Fair</td>\n",
       "      <td>Yes</td>\n",
       "    </tr>\n",
       "    <tr>\n",
       "      <th>4</th>\n",
       "      <td>&gt;40</td>\n",
       "      <td>Medium</td>\n",
       "      <td>No</td>\n",
       "      <td>Fair</td>\n",
       "      <td>Yes</td>\n",
       "    </tr>\n",
       "    <tr>\n",
       "      <th>5</th>\n",
       "      <td>&gt;40</td>\n",
       "      <td>Low</td>\n",
       "      <td>Yes</td>\n",
       "      <td>Fair</td>\n",
       "      <td>Yes</td>\n",
       "    </tr>\n",
       "    <tr>\n",
       "      <th>6</th>\n",
       "      <td>&gt;40</td>\n",
       "      <td>Low</td>\n",
       "      <td>Yes</td>\n",
       "      <td>Excellent</td>\n",
       "      <td>No</td>\n",
       "    </tr>\n",
       "    <tr>\n",
       "      <th>7</th>\n",
       "      <td>31...40</td>\n",
       "      <td>Low</td>\n",
       "      <td>Yes</td>\n",
       "      <td>Excellent</td>\n",
       "      <td>Yes</td>\n",
       "    </tr>\n",
       "    <tr>\n",
       "      <th>8</th>\n",
       "      <td>&lt;=30</td>\n",
       "      <td>Medium</td>\n",
       "      <td>No</td>\n",
       "      <td>Fair</td>\n",
       "      <td>No</td>\n",
       "    </tr>\n",
       "    <tr>\n",
       "      <th>9</th>\n",
       "      <td>&lt;=30</td>\n",
       "      <td>Low</td>\n",
       "      <td>Yes</td>\n",
       "      <td>Fair</td>\n",
       "      <td>Yes</td>\n",
       "    </tr>\n",
       "    <tr>\n",
       "      <th>10</th>\n",
       "      <td>&gt;40</td>\n",
       "      <td>Medium</td>\n",
       "      <td>Yes</td>\n",
       "      <td>Fair</td>\n",
       "      <td>Yes</td>\n",
       "    </tr>\n",
       "    <tr>\n",
       "      <th>11</th>\n",
       "      <td>&lt;=30</td>\n",
       "      <td>Medium</td>\n",
       "      <td>Yes</td>\n",
       "      <td>Excellent</td>\n",
       "      <td>Yes</td>\n",
       "    </tr>\n",
       "    <tr>\n",
       "      <th>12</th>\n",
       "      <td>31...40</td>\n",
       "      <td>Medium</td>\n",
       "      <td>No</td>\n",
       "      <td>Excellent</td>\n",
       "      <td>Yes</td>\n",
       "    </tr>\n",
       "    <tr>\n",
       "      <th>13</th>\n",
       "      <td>31...40</td>\n",
       "      <td>High</td>\n",
       "      <td>Yes</td>\n",
       "      <td>Fair</td>\n",
       "      <td>Yes</td>\n",
       "    </tr>\n",
       "    <tr>\n",
       "      <th>14</th>\n",
       "      <td>&gt;40</td>\n",
       "      <td>Medium</td>\n",
       "      <td>No</td>\n",
       "      <td>Excellent</td>\n",
       "      <td>No</td>\n",
       "    </tr>\n",
       "  </tbody>\n",
       "</table>\n",
       "</div>"
      ],
      "text/plain": [
       "         Age  Income Student Credit_rating Class:buys_computer\n",
       "RID                                                           \n",
       "1       <=30    High      No          Fair                  No\n",
       "2       <=30    High      No     Excellent                  No\n",
       "3    31...40    High      No          Fair                 Yes\n",
       "4        >40  Medium      No          Fair                 Yes\n",
       "5        >40     Low     Yes          Fair                 Yes\n",
       "6        >40     Low     Yes     Excellent                  No\n",
       "7    31...40     Low     Yes     Excellent                 Yes\n",
       "8       <=30  Medium      No          Fair                  No\n",
       "9       <=30     Low     Yes          Fair                 Yes\n",
       "10       >40  Medium     Yes          Fair                 Yes\n",
       "11      <=30  Medium     Yes     Excellent                 Yes\n",
       "12   31...40  Medium      No     Excellent                 Yes\n",
       "13   31...40    High     Yes          Fair                 Yes\n",
       "14       >40  Medium      No     Excellent                  No"
      ]
     },
     "execution_count": 1,
     "metadata": {},
     "output_type": "execute_result"
    }
   ],
   "source": [
    "import pandas as pd\n",
    "\n",
    "df = pd.read_csv('Dataset_knn.txt',sep = ' ',index_col ='RID')\n",
    "df"
   ]
  },
  {
   "cell_type": "markdown",
   "id": "valuable-discipline",
   "metadata": {},
   "source": [
    "### Dataset Preprocessing (Conversion to Vectors)"
   ]
  },
  {
   "cell_type": "markdown",
   "id": "collective-photograph",
   "metadata": {},
   "source": [
    "**Assign a Numeric Value to each Value in dataframe**"
   ]
  },
  {
   "cell_type": "raw",
   "id": "patient-general",
   "metadata": {},
   "source": [
    "#import numpy as np\n",
    "\n",
    "#value_to_number_map = {}\n",
    "#for feature in df.columns[:-1]:\n",
    "#    values = np.unique(df[feature])\n",
    "#    vector_map = {values[i]:i for i in range(len(values))}\n",
    "#    value_to_number_map[feature] = vector_map"
   ]
  },
  {
   "cell_type": "code",
   "execution_count": 2,
   "id": "original-error",
   "metadata": {},
   "outputs": [],
   "source": [
    "value_to_number_map = {'Age': {'<=30': 0, '31...40': 1, '>40': 2},\n",
    "                      'Income': {'Low': 0, 'Medium': 1, 'High': 2},\n",
    "                      'Student': {'No': 0, 'Yes': 1},\n",
    "                      'Credit_rating': {'Fair': 0, 'Excellent': 1}}"
   ]
  },
  {
   "cell_type": "markdown",
   "id": "political-bailey",
   "metadata": {},
   "source": [
    "**Convert to Vectors**"
   ]
  },
  {
   "cell_type": "code",
   "execution_count": 3,
   "id": "future-award",
   "metadata": {},
   "outputs": [],
   "source": [
    "X_train = []\n",
    "y_train = []\n",
    "for i in range(len(df)):\n",
    "    tup = []\n",
    "    for x in df.columns[:-1]:\n",
    "        tup.append(value_to_number_map[x][df.iloc[i][x]])\n",
    "    X_train.append(tup)\n",
    "    y_train.append(df.iloc[i][-1])"
   ]
  },
  {
   "cell_type": "markdown",
   "id": "sophisticated-guide",
   "metadata": {},
   "source": [
    "**Normalise the Vectors to Avoid Bias**"
   ]
  },
  {
   "cell_type": "code",
   "execution_count": 4,
   "id": "gross-alexander",
   "metadata": {},
   "outputs": [],
   "source": [
    "import numpy as np\n",
    "\n",
    "for i in range(len(X_train)):\n",
    "    a = np.sqrt(np.dot(X_train[i],X_train[i]))\n",
    "    X_train[i] = X_train[i]/a"
   ]
  },
  {
   "cell_type": "markdown",
   "id": "tracked-robert",
   "metadata": {},
   "source": [
    "**Vectorise the given Data Point**"
   ]
  },
  {
   "cell_type": "code",
   "execution_count": 5,
   "id": "leading-combination",
   "metadata": {},
   "outputs": [],
   "source": [
    "X = {'Age': '<=30' , 'Income': 'Medium' , 'Student': 'Yes' , 'Credit_rating': 'Fair'}\n",
    "#Vectorise the data point and then normalise the vector\n",
    "X = [value_to_number_map[x][X[x]] for x in X]\n",
    "X = X/np.sqrt(np.dot(X,X))"
   ]
  },
  {
   "cell_type": "markdown",
   "id": "beautiful-snake",
   "metadata": {},
   "source": [
    "**Compute the Distance from all Points in Training Dataset**"
   ]
  },
  {
   "cell_type": "code",
   "execution_count": 6,
   "id": "emotional-samoa",
   "metadata": {},
   "outputs": [],
   "source": [
    "dist = []\n",
    "for x,y in zip(X_train,y_train):\n",
    "    dist.append((np.sqrt(np.dot([a-b for a,b in zip(X,x)],[a-b for a,b in zip(X,x)])),y))\n",
    "dist.sort()"
   ]
  },
  {
   "cell_type": "markdown",
   "id": "inside-airline",
   "metadata": {},
   "source": [
    "**Classify the Data Point** "
   ]
  },
  {
   "cell_type": "code",
   "execution_count": 7,
   "id": "confident-intention",
   "metadata": {},
   "outputs": [
    {
     "name": "stdout",
     "output_type": "stream",
     "text": [
      "The Class assigned to given datapoint is Class:buys_computer = Yes\n"
     ]
    }
   ],
   "source": [
    "k = 3   #Change k here\n",
    "freq = {a:0 for a in set(y_train)}\n",
    "for x in dist[:k]:\n",
    "    freq[x[1]] += 1\n",
    "print('The Class assigned to given datapoint is',df.columns[-1],'=',max(freq,key = freq.get))"
   ]
  }
 ],
 "metadata": {
  "kernelspec": {
   "display_name": "Python 3",
   "language": "python",
   "name": "python3"
  },
  "language_info": {
   "codemirror_mode": {
    "name": "ipython",
    "version": 3
   },
   "file_extension": ".py",
   "mimetype": "text/x-python",
   "name": "python",
   "nbconvert_exporter": "python",
   "pygments_lexer": "ipython3",
   "version": "3.8.8"
  }
 },
 "nbformat": 4,
 "nbformat_minor": 5
}

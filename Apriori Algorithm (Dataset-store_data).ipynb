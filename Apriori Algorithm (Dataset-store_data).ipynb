{
 "cells": [
  {
   "cell_type": "markdown",
   "id": "numerous-decimal",
   "metadata": {},
   "source": [
    "# ASSOCIATION RULES MINING USING APRIORI ALGORITHM"
   ]
  },
  {
   "cell_type": "markdown",
   "id": "short-repeat",
   "metadata": {},
   "source": [
    "**Reading the Dataset**"
   ]
  },
  {
   "cell_type": "code",
   "execution_count": 1,
   "id": "solid-installation",
   "metadata": {},
   "outputs": [],
   "source": [
    "import pandas as pd\n",
    "\n",
    "df = pd.read_csv('store_data.csv',header = None)"
   ]
  },
  {
   "cell_type": "markdown",
   "id": "hindu-fitting",
   "metadata": {},
   "source": [
    "**Converting the Dataset into List of Lists**"
   ]
  },
  {
   "cell_type": "code",
   "execution_count": 2,
   "id": "false-projection",
   "metadata": {},
   "outputs": [],
   "source": [
    "import numpy as np\n",
    "\n",
    "dataset = []\n",
    "for i in range(len(df)):\n",
    "    x = list(set(df.loc[i]))\n",
    "    x = [p for p in x if p is not np.nan]\n",
    "    dataset.append(x)"
   ]
  },
  {
   "cell_type": "markdown",
   "id": "incorporated-washington",
   "metadata": {},
   "source": [
    "**Function to Find Single Item Frequent Itemsets**"
   ]
  },
  {
   "cell_type": "code",
   "execution_count": 3,
   "id": "indirect-communications",
   "metadata": {},
   "outputs": [],
   "source": [
    "def find_frequent_1_itemsets(dataset,support):\n",
    "    frequent_itemset = {}\n",
    "    for T in dataset:\n",
    "        for x in set(T):\n",
    "            if x not in frequent_itemset:\n",
    "                frequent_itemset[x] = 0\n",
    "            frequent_itemset[x] += 1\n",
    "    fiset = {frozenset([x]):frequent_itemset[x] for x in frequent_itemset if frequent_itemset[x] >= support}\n",
    "    return fiset"
   ]
  },
  {
   "cell_type": "markdown",
   "id": "trained-legend",
   "metadata": {},
   "source": [
    "**Apriori Algorithm**"
   ]
  },
  {
   "cell_type": "code",
   "execution_count": 4,
   "id": "leading-integrity",
   "metadata": {},
   "outputs": [],
   "source": [
    "def apriori(dataset,support):\n",
    "    L = {}\n",
    "    S = find_frequent_1_itemsets(dataset,support)\n",
    "    L.update(S)\n",
    "    k = 1\n",
    "    while(True):\n",
    "        C = apriori_gen(set(S),k)\n",
    "        tab_count = {}\n",
    "        for t in dataset:\n",
    "            for c in C:\n",
    "                if c.issubset(set(t)):\n",
    "                    if c not in tab_count:\n",
    "                        tab_count[c] = 0\n",
    "                    tab_count[c] += 1\n",
    "        S = {x:tab_count[x] for x in tab_count if tab_count[x] >= support}\n",
    "        if S != {}:\n",
    "            L.update(S)\n",
    "            k = k+1\n",
    "        else:\n",
    "            break\n",
    "    return L"
   ]
  },
  {
   "cell_type": "code",
   "execution_count": 5,
   "id": "enhanced-eagle",
   "metadata": {},
   "outputs": [],
   "source": [
    "def apriori_gen(S,k):\n",
    "    C = set()\n",
    "    for x in S:\n",
    "        for y in S:\n",
    "            c = x.union(y)\n",
    "            if len(c) == k+1 and not has_infrequent_subset(c,S,k):\n",
    "                C.add(c)\n",
    "    return C"
   ]
  },
  {
   "cell_type": "code",
   "execution_count": 6,
   "id": "bored-practitioner",
   "metadata": {},
   "outputs": [],
   "source": [
    "import itertools\n",
    "\n",
    "def has_infrequent_subset(c,S,k):\n",
    "    sets = set(map(frozenset, itertools.combinations(c,k)))\n",
    "    for s in sets:\n",
    "        if s not in S:\n",
    "            return True\n",
    "    return False"
   ]
  },
  {
   "cell_type": "markdown",
   "id": "contemporary-proposal",
   "metadata": {},
   "source": [
    "**Running the Apriori Algorithm to find Frequent Itemsets (*Change Support in this Cell*)**"
   ]
  },
  {
   "cell_type": "code",
   "execution_count": 7,
   "id": "considerable-applicant",
   "metadata": {},
   "outputs": [],
   "source": [
    "support = 0.01 #Change Support Here\n",
    "L = apriori(dataset,round(support*len(dataset)))"
   ]
  },
  {
   "cell_type": "markdown",
   "id": "exclusive-arnold",
   "metadata": {},
   "source": [
    "**Function to Generate Association Rules using the Frequent Itemsets of Size Greater than or Equal to *min_size***"
   ]
  },
  {
   "cell_type": "code",
   "execution_count": 8,
   "id": "adjacent-plaza",
   "metadata": {},
   "outputs": [],
   "source": [
    "def Association_Rules(L,length_dataset,confidence = 0.5, min_size = 2):\n",
    "    association_rules = []\n",
    "    for x in L:\n",
    "        if len(x)>= min_size:\n",
    "            for k in range(1,len(x)):\n",
    "                s = list(map(frozenset, itertools.combinations(x,k)))\n",
    "                for p in s:\n",
    "                    conf = L[x]/L[p]\n",
    "                    if conf >= confidence:\n",
    "                        association_rules.append([set(p), set(x-p), L[x]/length_dataset, conf])\n",
    "    return association_rules"
   ]
  },
  {
   "cell_type": "markdown",
   "id": "separated-diana",
   "metadata": {},
   "source": [
    "**Generate the Association Rules and Store in a 2D Array (*Change Confidence in this Cell*)**"
   ]
  },
  {
   "cell_type": "code",
   "execution_count": 9,
   "id": "powered-thought",
   "metadata": {},
   "outputs": [],
   "source": [
    "conf = 0.4 #Change Confidence Here\n",
    "ar = Association_Rules(L,len(dataset),confidence = conf, min_size = 2)"
   ]
  },
  {
   "cell_type": "markdown",
   "id": "floral-allah",
   "metadata": {},
   "source": [
    "**Make a Dataframe for Easy Understanding**"
   ]
  },
  {
   "cell_type": "code",
   "execution_count": 10,
   "id": "split-omega",
   "metadata": {},
   "outputs": [],
   "source": [
    "association_rules = pd.DataFrame(ar,columns = ['Antecedent','Consequent','Support','Confidence'])"
   ]
  },
  {
   "cell_type": "code",
   "execution_count": 11,
   "id": "broad-latex",
   "metadata": {},
   "outputs": [
    {
     "name": "stdout",
     "output_type": "stream",
     "text": [
      "THE ASSOCIATION RULES FOR min_support = 0.01 AND min_confidence = 0.4 ARE THE FOLLOWING\n",
      "THE ASSOCIATION RULE IS TO BE READ AS \"Antecedent => Consequent\" WITH RESPECTIVE SUPPORT AND CONFIDENCE\n",
      "                        Antecedent       Consequent   Support  Confidence\n",
      "0                      {olive oil}  {mineral water}  0.027596    0.419028\n",
      "1                         {salmon}  {mineral water}  0.017064    0.401254\n",
      "2                    {ground beef}  {mineral water}  0.040928    0.416554\n",
      "3                           {soup}  {mineral water}  0.023064    0.456464\n",
      "4            {spaghetti, pancakes}  {mineral water}  0.011465    0.455026\n",
      "5                {spaghetti, milk}  {mineral water}  0.015731    0.443609\n",
      "6              {milk, ground beef}  {mineral water}  0.011065    0.503030\n",
      "7         {spaghetti, ground beef}  {mineral water}  0.017064    0.435374\n",
      "8     {mineral water, ground beef}      {spaghetti}  0.017064    0.416938\n",
      "9                {chocolate, eggs}  {mineral water}  0.013465    0.405622\n",
      "10  {spaghetti, frozen vegetables}  {mineral water}  0.011998    0.430622\n",
      "11          {spaghetti, olive oil}  {mineral water}  0.010265    0.447674\n",
      "12               {chocolate, milk}  {mineral water}  0.013998    0.435685\n",
      "13        {chocolate, ground beef}  {mineral water}  0.010932    0.473988\n",
      "14       {milk, frozen vegetables}  {mineral water}  0.011065    0.468927\n",
      "15          {chocolate, spaghetti}  {mineral water}  0.015865    0.404762\n",
      "16             {eggs, ground beef}  {mineral water}  0.010132    0.506667\n",
      "17                    {milk, eggs}  {mineral water}  0.013065    0.424242\n"
     ]
    },
    {
     "data": {
      "text/html": [
       "<div>\n",
       "<style scoped>\n",
       "    .dataframe tbody tr th:only-of-type {\n",
       "        vertical-align: middle;\n",
       "    }\n",
       "\n",
       "    .dataframe tbody tr th {\n",
       "        vertical-align: top;\n",
       "    }\n",
       "\n",
       "    .dataframe thead th {\n",
       "        text-align: right;\n",
       "    }\n",
       "</style>\n",
       "<table border=\"1\" class=\"dataframe\">\n",
       "  <thead>\n",
       "    <tr style=\"text-align: right;\">\n",
       "      <th></th>\n",
       "      <th>Antecedent</th>\n",
       "      <th>Consequent</th>\n",
       "      <th>Support</th>\n",
       "      <th>Confidence</th>\n",
       "    </tr>\n",
       "  </thead>\n",
       "  <tbody>\n",
       "    <tr>\n",
       "      <th>0</th>\n",
       "      <td>{olive oil}</td>\n",
       "      <td>{mineral water}</td>\n",
       "      <td>0.027596</td>\n",
       "      <td>0.419028</td>\n",
       "    </tr>\n",
       "    <tr>\n",
       "      <th>1</th>\n",
       "      <td>{salmon}</td>\n",
       "      <td>{mineral water}</td>\n",
       "      <td>0.017064</td>\n",
       "      <td>0.401254</td>\n",
       "    </tr>\n",
       "    <tr>\n",
       "      <th>2</th>\n",
       "      <td>{ground beef}</td>\n",
       "      <td>{mineral water}</td>\n",
       "      <td>0.040928</td>\n",
       "      <td>0.416554</td>\n",
       "    </tr>\n",
       "    <tr>\n",
       "      <th>3</th>\n",
       "      <td>{soup}</td>\n",
       "      <td>{mineral water}</td>\n",
       "      <td>0.023064</td>\n",
       "      <td>0.456464</td>\n",
       "    </tr>\n",
       "    <tr>\n",
       "      <th>4</th>\n",
       "      <td>{spaghetti, pancakes}</td>\n",
       "      <td>{mineral water}</td>\n",
       "      <td>0.011465</td>\n",
       "      <td>0.455026</td>\n",
       "    </tr>\n",
       "    <tr>\n",
       "      <th>5</th>\n",
       "      <td>{spaghetti, milk}</td>\n",
       "      <td>{mineral water}</td>\n",
       "      <td>0.015731</td>\n",
       "      <td>0.443609</td>\n",
       "    </tr>\n",
       "    <tr>\n",
       "      <th>6</th>\n",
       "      <td>{milk, ground beef}</td>\n",
       "      <td>{mineral water}</td>\n",
       "      <td>0.011065</td>\n",
       "      <td>0.503030</td>\n",
       "    </tr>\n",
       "    <tr>\n",
       "      <th>7</th>\n",
       "      <td>{spaghetti, ground beef}</td>\n",
       "      <td>{mineral water}</td>\n",
       "      <td>0.017064</td>\n",
       "      <td>0.435374</td>\n",
       "    </tr>\n",
       "    <tr>\n",
       "      <th>8</th>\n",
       "      <td>{mineral water, ground beef}</td>\n",
       "      <td>{spaghetti}</td>\n",
       "      <td>0.017064</td>\n",
       "      <td>0.416938</td>\n",
       "    </tr>\n",
       "    <tr>\n",
       "      <th>9</th>\n",
       "      <td>{chocolate, eggs}</td>\n",
       "      <td>{mineral water}</td>\n",
       "      <td>0.013465</td>\n",
       "      <td>0.405622</td>\n",
       "    </tr>\n",
       "    <tr>\n",
       "      <th>10</th>\n",
       "      <td>{spaghetti, frozen vegetables}</td>\n",
       "      <td>{mineral water}</td>\n",
       "      <td>0.011998</td>\n",
       "      <td>0.430622</td>\n",
       "    </tr>\n",
       "    <tr>\n",
       "      <th>11</th>\n",
       "      <td>{spaghetti, olive oil}</td>\n",
       "      <td>{mineral water}</td>\n",
       "      <td>0.010265</td>\n",
       "      <td>0.447674</td>\n",
       "    </tr>\n",
       "    <tr>\n",
       "      <th>12</th>\n",
       "      <td>{chocolate, milk}</td>\n",
       "      <td>{mineral water}</td>\n",
       "      <td>0.013998</td>\n",
       "      <td>0.435685</td>\n",
       "    </tr>\n",
       "    <tr>\n",
       "      <th>13</th>\n",
       "      <td>{chocolate, ground beef}</td>\n",
       "      <td>{mineral water}</td>\n",
       "      <td>0.010932</td>\n",
       "      <td>0.473988</td>\n",
       "    </tr>\n",
       "    <tr>\n",
       "      <th>14</th>\n",
       "      <td>{milk, frozen vegetables}</td>\n",
       "      <td>{mineral water}</td>\n",
       "      <td>0.011065</td>\n",
       "      <td>0.468927</td>\n",
       "    </tr>\n",
       "    <tr>\n",
       "      <th>15</th>\n",
       "      <td>{chocolate, spaghetti}</td>\n",
       "      <td>{mineral water}</td>\n",
       "      <td>0.015865</td>\n",
       "      <td>0.404762</td>\n",
       "    </tr>\n",
       "    <tr>\n",
       "      <th>16</th>\n",
       "      <td>{eggs, ground beef}</td>\n",
       "      <td>{mineral water}</td>\n",
       "      <td>0.010132</td>\n",
       "      <td>0.506667</td>\n",
       "    </tr>\n",
       "    <tr>\n",
       "      <th>17</th>\n",
       "      <td>{milk, eggs}</td>\n",
       "      <td>{mineral water}</td>\n",
       "      <td>0.013065</td>\n",
       "      <td>0.424242</td>\n",
       "    </tr>\n",
       "  </tbody>\n",
       "</table>\n",
       "</div>"
      ],
      "text/plain": [
       "                        Antecedent       Consequent   Support  Confidence\n",
       "0                      {olive oil}  {mineral water}  0.027596    0.419028\n",
       "1                         {salmon}  {mineral water}  0.017064    0.401254\n",
       "2                    {ground beef}  {mineral water}  0.040928    0.416554\n",
       "3                           {soup}  {mineral water}  0.023064    0.456464\n",
       "4            {spaghetti, pancakes}  {mineral water}  0.011465    0.455026\n",
       "5                {spaghetti, milk}  {mineral water}  0.015731    0.443609\n",
       "6              {milk, ground beef}  {mineral water}  0.011065    0.503030\n",
       "7         {spaghetti, ground beef}  {mineral water}  0.017064    0.435374\n",
       "8     {mineral water, ground beef}      {spaghetti}  0.017064    0.416938\n",
       "9                {chocolate, eggs}  {mineral water}  0.013465    0.405622\n",
       "10  {spaghetti, frozen vegetables}  {mineral water}  0.011998    0.430622\n",
       "11          {spaghetti, olive oil}  {mineral water}  0.010265    0.447674\n",
       "12               {chocolate, milk}  {mineral water}  0.013998    0.435685\n",
       "13        {chocolate, ground beef}  {mineral water}  0.010932    0.473988\n",
       "14       {milk, frozen vegetables}  {mineral water}  0.011065    0.468927\n",
       "15          {chocolate, spaghetti}  {mineral water}  0.015865    0.404762\n",
       "16             {eggs, ground beef}  {mineral water}  0.010132    0.506667\n",
       "17                    {milk, eggs}  {mineral water}  0.013065    0.424242"
      ]
     },
     "execution_count": 11,
     "metadata": {},
     "output_type": "execute_result"
    }
   ],
   "source": [
    "print('THE ASSOCIATION RULES FOR min_support =',support,'AND min_confidence =',conf,'ARE THE FOLLOWING')\n",
    "print('THE ASSOCIATION RULE IS TO BE READ AS \"Antecedent => Consequent\" WITH RESPECTIVE SUPPORT AND CONFIDENCE')\n",
    "print(association_rules)\n",
    "association_rules"
   ]
  }
 ],
 "metadata": {
  "kernelspec": {
   "display_name": "Python 3",
   "language": "python",
   "name": "python3"
  },
  "language_info": {
   "codemirror_mode": {
    "name": "ipython",
    "version": 3
   },
   "file_extension": ".py",
   "mimetype": "text/x-python",
   "name": "python",
   "nbconvert_exporter": "python",
   "pygments_lexer": "ipython3",
   "version": "3.8.8"
  }
 },
 "nbformat": 4,
 "nbformat_minor": 5
}
